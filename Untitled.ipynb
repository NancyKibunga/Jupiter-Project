{
 "cells": [
  {
   "cell_type": "code",
   "execution_count": 8,
   "id": "5bb19a3a",
   "metadata": {},
   "outputs": [
    {
     "ename": "IndentationError",
     "evalue": "expected an indented block (<ipython-input-8-1317c3a8d358>, line 7)",
     "output_type": "error",
     "traceback": [
      "\u001b[1;36m  File \u001b[1;32m\"<ipython-input-8-1317c3a8d358>\"\u001b[1;36m, line \u001b[1;32m7\u001b[0m\n\u001b[1;33m    return isPerfectSquare(5nn + 4) or isPerfectSquare(5nn – 4)\u001b[0m\n\u001b[1;37m    ^\u001b[0m\n\u001b[1;31mIndentationError\u001b[0m\u001b[1;31m:\u001b[0m expected an indented block\n"
     ]
    }
   ],
   "source": [
    "def isPerfectSquare(num):\n",
    "\n",
    " s =int(math.sqrt(num))\n",
    "return s*s == num\n",
    "def isFibonacciNumber(n):\n",
    "\n",
    "return isPerfectSquare(5nn + 4) or isPerfectSquare(5nn – 4)"
   ]
  },
  {
   "cell_type": "code",
   "execution_count": 9,
   "id": "bd56b787",
   "metadata": {},
   "outputs": [
    {
     "name": "stdout",
     "output_type": "stream",
     "text": [
      "Enter the number of terms : 23\n",
      "Generating Fibonacci sequence upto  23 : \n",
      "0\n",
      "1\n",
      "1\n",
      "2\n",
      "3\n",
      "5\n",
      "8\n",
      "13\n",
      "21\n",
      "34\n",
      "55\n",
      "89\n",
      "144\n",
      "233\n",
      "377\n",
      "610\n",
      "987\n",
      "1597\n",
      "2584\n",
      "4181\n",
      "6765\n",
      "10946\n",
      "17711\n"
     ]
    }
   ],
   "source": [
    "N = int(input(\"Enter the number of terms : \"))\n",
    " \n",
    "# first two terms are f1, f2 equal to 0 and 1 respectively\n",
    "f1, f2 = 0, 1\n",
    "count = 0\n",
    " \n",
    "# checking for invalid inputs\n",
    "if(N <= 0):\n",
    "    print(\"Invalid Input, Kindly enter number greater than 0\")\n",
    " \n",
    "# if only one number in the sequence\n",
    "elif(N == 1):\n",
    "    print(\"Generating Fibonacci Sequence upto \", N, \": \")\n",
    "    print(f1)\n",
    " \n",
    "# for all the other cases, i.e. when N > 1\n",
    "else:\n",
    "    print(\"Generating Fibonacci sequence upto \", N, \": \")\n",
    "    while count < N:\n",
    "        print(f1)\n",
    "        fth = f1 + f2\n",
    "# swapping the values for f1 and f2\n",
    "        f1 = f2\n",
    "        f2 = fth\n",
    "        count += 1"
   ]
  },
  {
   "cell_type": "code",
   "execution_count": 12,
   "id": "26b17266",
   "metadata": {},
   "outputs": [
    {
     "name": "stdout",
     "output_type": "stream",
     "text": [
      "Enter the number you want to check : 2\n",
      "2 is fibonacci number\n"
     ]
    }
   ],
   "source": []
  },
  {
   "cell_type": "code",
   "execution_count": null,
   "id": "bb0e2959",
   "metadata": {},
   "outputs": [],
   "source": []
  },
  {
   "cell_type": "code",
   "execution_count": null,
   "id": "775a2297",
   "metadata": {},
   "outputs": [],
   "source": []
  }
 ],
 "metadata": {
  "kernelspec": {
   "display_name": "Python 3",
   "language": "python",
   "name": "python3"
  },
  "language_info": {
   "codemirror_mode": {
    "name": "ipython",
    "version": 3
   },
   "file_extension": ".py",
   "mimetype": "text/x-python",
   "name": "python",
   "nbconvert_exporter": "python",
   "pygments_lexer": "ipython3",
   "version": "3.8.8"
  }
 },
 "nbformat": 4,
 "nbformat_minor": 5
}
